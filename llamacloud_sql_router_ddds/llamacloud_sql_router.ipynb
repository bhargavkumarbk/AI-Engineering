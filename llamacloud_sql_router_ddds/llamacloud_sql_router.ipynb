{
 "cells": [
  {
   "cell_type": "markdown",
   "metadata": {},
   "source": [
    "# Combining RAG and Text-to-SQL in a Single Query Interface\n",
    "\n",
    "<a href=\"https://colab.research.google.com/github/run-llama/llamacloud-demo/blob/main/examples/advanced_rag/llamacloud_sql_router.ipynb\" target=\"_parent\"><img src=\"https://colab.research.google.com/assets/colab-badge.svg\" alt=\"Open In Colab\"/></a>\n",
    "\n",
    "This notebook shows you how to create a custom agent that can query either your LlamaCloud index for RAG-based retrieval or a separate SQL query engine as a tool. In this example, we'll use PDFs of Wikipedia pages of US cities and a SQL database of their populations and states as documents.\n",
    "\n",
    "![](llamacloud_sql_router_img.png)\n",
    "\n",
    "**NOTE**: Any Text-to-SQL application should be aware that executing arbitrary SQL queries can be a security risk. It is recommended to take precautions as needed, such as using restricted roles, read-only databases, sandboxing, etc."
   ]
  },
  {
   "cell_type": "markdown",
   "metadata": {},
   "source": [
    "## Setup\n",
    "\n",
    "Set up your OpenAI API key and `nest_asyncio`."
   ]
  },
  {
   "cell_type": "code",
   "execution_count": 1,
   "metadata": {},
   "outputs": [
    {
     "name": "stdout",
     "output_type": "stream",
     "text": [
      "Requirement already satisfied: ipykernel in ./venv/lib/python3.12/site-packages (from -r requirements.txt (line 1)) (6.29.5)\n",
      "Requirement already satisfied: llama-index in ./venv/lib/python3.12/site-packages (from -r requirements.txt (line 2)) (0.12.23)\n",
      "Requirement already satisfied: streamlit in ./venv/lib/python3.12/site-packages (from -r requirements.txt (line 3)) (1.43.1)\n",
      "Requirement already satisfied: appnope in ./venv/lib/python3.12/site-packages (from ipykernel->-r requirements.txt (line 1)) (0.1.4)\n",
      "Requirement already satisfied: comm>=0.1.1 in ./venv/lib/python3.12/site-packages (from ipykernel->-r requirements.txt (line 1)) (0.2.2)\n",
      "Requirement already satisfied: debugpy>=1.6.5 in ./venv/lib/python3.12/site-packages (from ipykernel->-r requirements.txt (line 1)) (1.8.11)\n",
      "Requirement already satisfied: ipython>=7.23.1 in ./venv/lib/python3.12/site-packages (from ipykernel->-r requirements.txt (line 1)) (9.0.0)\n",
      "Requirement already satisfied: jupyter-client>=6.1.12 in ./venv/lib/python3.12/site-packages (from ipykernel->-r requirements.txt (line 1)) (8.6.3)\n",
      "Requirement already satisfied: jupyter-core!=5.0.*,>=4.12 in ./venv/lib/python3.12/site-packages (from ipykernel->-r requirements.txt (line 1)) (5.7.2)\n",
      "Requirement already satisfied: matplotlib-inline>=0.1 in ./venv/lib/python3.12/site-packages (from ipykernel->-r requirements.txt (line 1)) (0.1.7)\n",
      "Requirement already satisfied: nest-asyncio in ./venv/lib/python3.12/site-packages (from ipykernel->-r requirements.txt (line 1)) (1.6.0)\n",
      "Requirement already satisfied: packaging in ./venv/lib/python3.12/site-packages (from ipykernel->-r requirements.txt (line 1)) (24.2)\n",
      "Requirement already satisfied: psutil in ./venv/lib/python3.12/site-packages (from ipykernel->-r requirements.txt (line 1)) (5.9.0)\n",
      "Requirement already satisfied: pyzmq>=24 in ./venv/lib/python3.12/site-packages (from ipykernel->-r requirements.txt (line 1)) (26.2.0)\n",
      "Requirement already satisfied: tornado>=6.1 in ./venv/lib/python3.12/site-packages (from ipykernel->-r requirements.txt (line 1)) (6.4.2)\n",
      "Requirement already satisfied: traitlets>=5.4.0 in ./venv/lib/python3.12/site-packages (from ipykernel->-r requirements.txt (line 1)) (5.14.3)\n",
      "Requirement already satisfied: llama-index-agent-openai<0.5.0,>=0.4.0 in ./venv/lib/python3.12/site-packages (from llama-index->-r requirements.txt (line 2)) (0.4.6)\n",
      "Requirement already satisfied: llama-index-cli<0.5.0,>=0.4.1 in ./venv/lib/python3.12/site-packages (from llama-index->-r requirements.txt (line 2)) (0.4.1)\n",
      "Requirement already satisfied: llama-index-core<0.13.0,>=0.12.23 in ./venv/lib/python3.12/site-packages (from llama-index->-r requirements.txt (line 2)) (0.12.23.post2)\n",
      "Requirement already satisfied: llama-index-embeddings-openai<0.4.0,>=0.3.0 in ./venv/lib/python3.12/site-packages (from llama-index->-r requirements.txt (line 2)) (0.3.1)\n",
      "Requirement already satisfied: llama-index-indices-managed-llama-cloud>=0.4.0 in ./venv/lib/python3.12/site-packages (from llama-index->-r requirements.txt (line 2)) (0.6.8)\n",
      "Requirement already satisfied: llama-index-llms-openai<0.4.0,>=0.3.0 in ./venv/lib/python3.12/site-packages (from llama-index->-r requirements.txt (line 2)) (0.3.25)\n",
      "Requirement already satisfied: llama-index-multi-modal-llms-openai<0.5.0,>=0.4.0 in ./venv/lib/python3.12/site-packages (from llama-index->-r requirements.txt (line 2)) (0.4.3)\n",
      "Requirement already satisfied: llama-index-program-openai<0.4.0,>=0.3.0 in ./venv/lib/python3.12/site-packages (from llama-index->-r requirements.txt (line 2)) (0.3.1)\n",
      "Requirement already satisfied: llama-index-question-gen-openai<0.4.0,>=0.3.0 in ./venv/lib/python3.12/site-packages (from llama-index->-r requirements.txt (line 2)) (0.3.0)\n",
      "Requirement already satisfied: llama-index-readers-file<0.5.0,>=0.4.0 in ./venv/lib/python3.12/site-packages (from llama-index->-r requirements.txt (line 2)) (0.4.6)\n",
      "Requirement already satisfied: llama-index-readers-llama-parse>=0.4.0 in ./venv/lib/python3.12/site-packages (from llama-index->-r requirements.txt (line 2)) (0.4.0)\n",
      "Requirement already satisfied: nltk>3.8.1 in ./venv/lib/python3.12/site-packages (from llama-index->-r requirements.txt (line 2)) (3.9.1)\n",
      "Requirement already satisfied: altair<6,>=4.0 in ./venv/lib/python3.12/site-packages (from streamlit->-r requirements.txt (line 3)) (5.5.0)\n",
      "Requirement already satisfied: blinker<2,>=1.0.0 in ./venv/lib/python3.12/site-packages (from streamlit->-r requirements.txt (line 3)) (1.9.0)\n",
      "Requirement already satisfied: cachetools<6,>=4.0 in ./venv/lib/python3.12/site-packages (from streamlit->-r requirements.txt (line 3)) (5.5.2)\n",
      "Requirement already satisfied: click<9,>=7.0 in ./venv/lib/python3.12/site-packages (from streamlit->-r requirements.txt (line 3)) (8.1.8)\n",
      "Requirement already satisfied: numpy<3,>=1.23 in ./venv/lib/python3.12/site-packages (from streamlit->-r requirements.txt (line 3)) (2.2.3)\n",
      "Requirement already satisfied: pandas<3,>=1.4.0 in ./venv/lib/python3.12/site-packages (from streamlit->-r requirements.txt (line 3)) (2.2.3)\n",
      "Requirement already satisfied: pillow<12,>=7.1.0 in ./venv/lib/python3.12/site-packages (from streamlit->-r requirements.txt (line 3)) (11.1.0)\n",
      "Requirement already satisfied: protobuf<6,>=3.20 in ./venv/lib/python3.12/site-packages (from streamlit->-r requirements.txt (line 3)) (5.29.3)\n",
      "Requirement already satisfied: pyarrow>=7.0 in ./venv/lib/python3.12/site-packages (from streamlit->-r requirements.txt (line 3)) (19.0.1)\n",
      "Requirement already satisfied: requests<3,>=2.27 in ./venv/lib/python3.12/site-packages (from streamlit->-r requirements.txt (line 3)) (2.32.3)\n",
      "Requirement already satisfied: tenacity<10,>=8.1.0 in ./venv/lib/python3.12/site-packages (from streamlit->-r requirements.txt (line 3)) (9.0.0)\n",
      "Requirement already satisfied: toml<2,>=0.10.1 in ./venv/lib/python3.12/site-packages (from streamlit->-r requirements.txt (line 3)) (0.10.2)\n",
      "Requirement already satisfied: typing-extensions<5,>=4.4.0 in ./venv/lib/python3.12/site-packages (from streamlit->-r requirements.txt (line 3)) (4.12.2)\n",
      "Requirement already satisfied: gitpython!=3.1.19,<4,>=3.0.7 in ./venv/lib/python3.12/site-packages (from streamlit->-r requirements.txt (line 3)) (3.1.44)\n",
      "Requirement already satisfied: pydeck<1,>=0.8.0b4 in ./venv/lib/python3.12/site-packages (from streamlit->-r requirements.txt (line 3)) (0.9.1)\n",
      "Requirement already satisfied: jinja2 in ./venv/lib/python3.12/site-packages (from altair<6,>=4.0->streamlit->-r requirements.txt (line 3)) (3.1.6)\n",
      "Requirement already satisfied: jsonschema>=3.0 in ./venv/lib/python3.12/site-packages (from altair<6,>=4.0->streamlit->-r requirements.txt (line 3)) (4.23.0)\n",
      "Requirement already satisfied: narwhals>=1.14.2 in ./venv/lib/python3.12/site-packages (from altair<6,>=4.0->streamlit->-r requirements.txt (line 3)) (1.29.1)\n",
      "Requirement already satisfied: gitdb<5,>=4.0.1 in ./venv/lib/python3.12/site-packages (from gitpython!=3.1.19,<4,>=3.0.7->streamlit->-r requirements.txt (line 3)) (4.0.12)\n",
      "Requirement already satisfied: decorator in ./venv/lib/python3.12/site-packages (from ipython>=7.23.1->ipykernel->-r requirements.txt (line 1)) (5.2.1)\n",
      "Requirement already satisfied: ipython-pygments-lexers in ./venv/lib/python3.12/site-packages (from ipython>=7.23.1->ipykernel->-r requirements.txt (line 1)) (1.1.1)\n",
      "Requirement already satisfied: jedi>=0.16 in ./venv/lib/python3.12/site-packages (from ipython>=7.23.1->ipykernel->-r requirements.txt (line 1)) (0.19.2)\n",
      "Requirement already satisfied: pexpect>4.3 in ./venv/lib/python3.12/site-packages (from ipython>=7.23.1->ipykernel->-r requirements.txt (line 1)) (4.9.0)\n",
      "Requirement already satisfied: prompt_toolkit<3.1.0,>=3.0.41 in ./venv/lib/python3.12/site-packages (from ipython>=7.23.1->ipykernel->-r requirements.txt (line 1)) (3.0.50)\n",
      "Requirement already satisfied: pygments>=2.4.0 in ./venv/lib/python3.12/site-packages (from ipython>=7.23.1->ipykernel->-r requirements.txt (line 1)) (2.19.1)\n",
      "Requirement already satisfied: stack_data in ./venv/lib/python3.12/site-packages (from ipython>=7.23.1->ipykernel->-r requirements.txt (line 1)) (0.6.3)\n",
      "Requirement already satisfied: python-dateutil>=2.8.2 in ./venv/lib/python3.12/site-packages (from jupyter-client>=6.1.12->ipykernel->-r requirements.txt (line 1)) (2.9.0.post0)\n",
      "Requirement already satisfied: platformdirs>=2.5 in ./venv/lib/python3.12/site-packages (from jupyter-core!=5.0.*,>=4.12->ipykernel->-r requirements.txt (line 1)) (4.3.6)\n",
      "Requirement already satisfied: openai>=1.14.0 in ./venv/lib/python3.12/site-packages (from llama-index-agent-openai<0.5.0,>=0.4.0->llama-index->-r requirements.txt (line 2)) (1.65.4)\n",
      "Requirement already satisfied: PyYAML>=6.0.1 in ./venv/lib/python3.12/site-packages (from llama-index-core<0.13.0,>=0.12.23->llama-index->-r requirements.txt (line 2)) (6.0.2)\n",
      "Requirement already satisfied: SQLAlchemy>=1.4.49 in ./venv/lib/python3.12/site-packages (from SQLAlchemy[asyncio]>=1.4.49->llama-index-core<0.13.0,>=0.12.23->llama-index->-r requirements.txt (line 2)) (2.0.38)\n",
      "Requirement already satisfied: aiohttp<4.0.0,>=3.8.6 in ./venv/lib/python3.12/site-packages (from llama-index-core<0.13.0,>=0.12.23->llama-index->-r requirements.txt (line 2)) (3.11.13)\n",
      "Requirement already satisfied: dataclasses-json in ./venv/lib/python3.12/site-packages (from llama-index-core<0.13.0,>=0.12.23->llama-index->-r requirements.txt (line 2)) (0.6.7)\n",
      "Requirement already satisfied: deprecated>=1.2.9.3 in ./venv/lib/python3.12/site-packages (from llama-index-core<0.13.0,>=0.12.23->llama-index->-r requirements.txt (line 2)) (1.2.18)\n",
      "Requirement already satisfied: dirtyjson<2.0.0,>=1.0.8 in ./venv/lib/python3.12/site-packages (from llama-index-core<0.13.0,>=0.12.23->llama-index->-r requirements.txt (line 2)) (1.0.8)\n",
      "Requirement already satisfied: filetype<2.0.0,>=1.2.0 in ./venv/lib/python3.12/site-packages (from llama-index-core<0.13.0,>=0.12.23->llama-index->-r requirements.txt (line 2)) (1.2.0)\n",
      "Requirement already satisfied: fsspec>=2023.5.0 in ./venv/lib/python3.12/site-packages (from llama-index-core<0.13.0,>=0.12.23->llama-index->-r requirements.txt (line 2)) (2025.3.0)\n",
      "Requirement already satisfied: httpx in ./venv/lib/python3.12/site-packages (from llama-index-core<0.13.0,>=0.12.23->llama-index->-r requirements.txt (line 2)) (0.28.1)\n",
      "Requirement already satisfied: networkx>=3.0 in ./venv/lib/python3.12/site-packages (from llama-index-core<0.13.0,>=0.12.23->llama-index->-r requirements.txt (line 2)) (3.4.2)\n",
      "Requirement already satisfied: pydantic>=2.8.0 in ./venv/lib/python3.12/site-packages (from llama-index-core<0.13.0,>=0.12.23->llama-index->-r requirements.txt (line 2)) (2.10.6)\n",
      "Requirement already satisfied: tiktoken>=0.3.3 in ./venv/lib/python3.12/site-packages (from llama-index-core<0.13.0,>=0.12.23->llama-index->-r requirements.txt (line 2)) (0.9.0)\n",
      "Requirement already satisfied: tqdm<5.0.0,>=4.66.1 in ./venv/lib/python3.12/site-packages (from llama-index-core<0.13.0,>=0.12.23->llama-index->-r requirements.txt (line 2)) (4.67.1)\n",
      "Requirement already satisfied: typing-inspect>=0.8.0 in ./venv/lib/python3.12/site-packages (from llama-index-core<0.13.0,>=0.12.23->llama-index->-r requirements.txt (line 2)) (0.9.0)\n",
      "Requirement already satisfied: wrapt in ./venv/lib/python3.12/site-packages (from llama-index-core<0.13.0,>=0.12.23->llama-index->-r requirements.txt (line 2)) (1.17.2)\n",
      "Requirement already satisfied: llama-cloud<0.2.0,>=0.1.13 in ./venv/lib/python3.12/site-packages (from llama-index-indices-managed-llama-cloud>=0.4.0->llama-index->-r requirements.txt (line 2)) (0.1.14)\n",
      "Requirement already satisfied: beautifulsoup4<5.0.0,>=4.12.3 in ./venv/lib/python3.12/site-packages (from llama-index-readers-file<0.5.0,>=0.4.0->llama-index->-r requirements.txt (line 2)) (4.13.3)\n",
      "Requirement already satisfied: pypdf<6.0.0,>=5.1.0 in ./venv/lib/python3.12/site-packages (from llama-index-readers-file<0.5.0,>=0.4.0->llama-index->-r requirements.txt (line 2)) (5.3.1)\n",
      "Requirement already satisfied: striprtf<0.0.27,>=0.0.26 in ./venv/lib/python3.12/site-packages (from llama-index-readers-file<0.5.0,>=0.4.0->llama-index->-r requirements.txt (line 2)) (0.0.26)\n",
      "Requirement already satisfied: llama-parse>=0.5.0 in ./venv/lib/python3.12/site-packages (from llama-index-readers-llama-parse>=0.4.0->llama-index->-r requirements.txt (line 2)) (0.6.4.post1)\n",
      "Requirement already satisfied: joblib in ./venv/lib/python3.12/site-packages (from nltk>3.8.1->llama-index->-r requirements.txt (line 2)) (1.4.2)\n",
      "Requirement already satisfied: regex>=2021.8.3 in ./venv/lib/python3.12/site-packages (from nltk>3.8.1->llama-index->-r requirements.txt (line 2)) (2024.11.6)\n",
      "Requirement already satisfied: pytz>=2020.1 in ./venv/lib/python3.12/site-packages (from pandas<3,>=1.4.0->streamlit->-r requirements.txt (line 3)) (2025.1)\n",
      "Requirement already satisfied: tzdata>=2022.7 in ./venv/lib/python3.12/site-packages (from pandas<3,>=1.4.0->streamlit->-r requirements.txt (line 3)) (2025.1)\n",
      "Requirement already satisfied: charset-normalizer<4,>=2 in ./venv/lib/python3.12/site-packages (from requests<3,>=2.27->streamlit->-r requirements.txt (line 3)) (3.4.1)\n",
      "Requirement already satisfied: idna<4,>=2.5 in ./venv/lib/python3.12/site-packages (from requests<3,>=2.27->streamlit->-r requirements.txt (line 3)) (3.10)\n",
      "Requirement already satisfied: urllib3<3,>=1.21.1 in ./venv/lib/python3.12/site-packages (from requests<3,>=2.27->streamlit->-r requirements.txt (line 3)) (2.3.0)\n",
      "Requirement already satisfied: certifi>=2017.4.17 in ./venv/lib/python3.12/site-packages (from requests<3,>=2.27->streamlit->-r requirements.txt (line 3)) (2025.1.31)\n",
      "Requirement already satisfied: aiohappyeyeballs>=2.3.0 in ./venv/lib/python3.12/site-packages (from aiohttp<4.0.0,>=3.8.6->llama-index-core<0.13.0,>=0.12.23->llama-index->-r requirements.txt (line 2)) (2.5.0)\n",
      "Requirement already satisfied: aiosignal>=1.1.2 in ./venv/lib/python3.12/site-packages (from aiohttp<4.0.0,>=3.8.6->llama-index-core<0.13.0,>=0.12.23->llama-index->-r requirements.txt (line 2)) (1.3.2)\n",
      "Requirement already satisfied: attrs>=17.3.0 in ./venv/lib/python3.12/site-packages (from aiohttp<4.0.0,>=3.8.6->llama-index-core<0.13.0,>=0.12.23->llama-index->-r requirements.txt (line 2)) (25.1.0)\n",
      "Requirement already satisfied: frozenlist>=1.1.1 in ./venv/lib/python3.12/site-packages (from aiohttp<4.0.0,>=3.8.6->llama-index-core<0.13.0,>=0.12.23->llama-index->-r requirements.txt (line 2)) (1.5.0)\n",
      "Requirement already satisfied: multidict<7.0,>=4.5 in ./venv/lib/python3.12/site-packages (from aiohttp<4.0.0,>=3.8.6->llama-index-core<0.13.0,>=0.12.23->llama-index->-r requirements.txt (line 2)) (6.1.0)\n",
      "Requirement already satisfied: propcache>=0.2.0 in ./venv/lib/python3.12/site-packages (from aiohttp<4.0.0,>=3.8.6->llama-index-core<0.13.0,>=0.12.23->llama-index->-r requirements.txt (line 2)) (0.3.0)\n",
      "Requirement already satisfied: yarl<2.0,>=1.17.0 in ./venv/lib/python3.12/site-packages (from aiohttp<4.0.0,>=3.8.6->llama-index-core<0.13.0,>=0.12.23->llama-index->-r requirements.txt (line 2)) (1.18.3)\n",
      "Requirement already satisfied: soupsieve>1.2 in ./venv/lib/python3.12/site-packages (from beautifulsoup4<5.0.0,>=4.12.3->llama-index-readers-file<0.5.0,>=0.4.0->llama-index->-r requirements.txt (line 2)) (2.6)\n",
      "Requirement already satisfied: smmap<6,>=3.0.1 in ./venv/lib/python3.12/site-packages (from gitdb<5,>=4.0.1->gitpython!=3.1.19,<4,>=3.0.7->streamlit->-r requirements.txt (line 3)) (5.0.2)\n",
      "Requirement already satisfied: parso<0.9.0,>=0.8.4 in ./venv/lib/python3.12/site-packages (from jedi>=0.16->ipython>=7.23.1->ipykernel->-r requirements.txt (line 1)) (0.8.4)\n",
      "Requirement already satisfied: MarkupSafe>=2.0 in ./venv/lib/python3.12/site-packages (from jinja2->altair<6,>=4.0->streamlit->-r requirements.txt (line 3)) (3.0.2)\n",
      "Requirement already satisfied: jsonschema-specifications>=2023.03.6 in ./venv/lib/python3.12/site-packages (from jsonschema>=3.0->altair<6,>=4.0->streamlit->-r requirements.txt (line 3)) (2024.10.1)\n",
      "Requirement already satisfied: referencing>=0.28.4 in ./venv/lib/python3.12/site-packages (from jsonschema>=3.0->altair<6,>=4.0->streamlit->-r requirements.txt (line 3)) (0.36.2)\n",
      "Requirement already satisfied: rpds-py>=0.7.1 in ./venv/lib/python3.12/site-packages (from jsonschema>=3.0->altair<6,>=4.0->streamlit->-r requirements.txt (line 3)) (0.23.1)\n",
      "Requirement already satisfied: anyio in ./venv/lib/python3.12/site-packages (from httpx->llama-index-core<0.13.0,>=0.12.23->llama-index->-r requirements.txt (line 2)) (4.8.0)\n",
      "Requirement already satisfied: httpcore==1.* in ./venv/lib/python3.12/site-packages (from httpx->llama-index-core<0.13.0,>=0.12.23->llama-index->-r requirements.txt (line 2)) (1.0.7)\n",
      "Requirement already satisfied: h11<0.15,>=0.13 in ./venv/lib/python3.12/site-packages (from httpcore==1.*->httpx->llama-index-core<0.13.0,>=0.12.23->llama-index->-r requirements.txt (line 2)) (0.14.0)\n",
      "Requirement already satisfied: llama-cloud-services>=0.6.4 in ./venv/lib/python3.12/site-packages (from llama-parse>=0.5.0->llama-index-readers-llama-parse>=0.4.0->llama-index->-r requirements.txt (line 2)) (0.6.5)\n",
      "Requirement already satisfied: distro<2,>=1.7.0 in ./venv/lib/python3.12/site-packages (from openai>=1.14.0->llama-index-agent-openai<0.5.0,>=0.4.0->llama-index->-r requirements.txt (line 2)) (1.9.0)\n",
      "Requirement already satisfied: jiter<1,>=0.4.0 in ./venv/lib/python3.12/site-packages (from openai>=1.14.0->llama-index-agent-openai<0.5.0,>=0.4.0->llama-index->-r requirements.txt (line 2)) (0.8.2)\n",
      "Requirement already satisfied: sniffio in ./venv/lib/python3.12/site-packages (from openai>=1.14.0->llama-index-agent-openai<0.5.0,>=0.4.0->llama-index->-r requirements.txt (line 2)) (1.3.1)\n",
      "Requirement already satisfied: ptyprocess>=0.5 in ./venv/lib/python3.12/site-packages (from pexpect>4.3->ipython>=7.23.1->ipykernel->-r requirements.txt (line 1)) (0.7.0)\n",
      "Requirement already satisfied: wcwidth in ./venv/lib/python3.12/site-packages (from prompt_toolkit<3.1.0,>=3.0.41->ipython>=7.23.1->ipykernel->-r requirements.txt (line 1)) (0.2.13)\n",
      "Requirement already satisfied: annotated-types>=0.6.0 in ./venv/lib/python3.12/site-packages (from pydantic>=2.8.0->llama-index-core<0.13.0,>=0.12.23->llama-index->-r requirements.txt (line 2)) (0.7.0)\n",
      "Requirement already satisfied: pydantic-core==2.27.2 in ./venv/lib/python3.12/site-packages (from pydantic>=2.8.0->llama-index-core<0.13.0,>=0.12.23->llama-index->-r requirements.txt (line 2)) (2.27.2)\n",
      "Requirement already satisfied: six>=1.5 in ./venv/lib/python3.12/site-packages (from python-dateutil>=2.8.2->jupyter-client>=6.1.12->ipykernel->-r requirements.txt (line 1)) (1.17.0)\n",
      "Requirement already satisfied: greenlet!=0.4.17 in ./venv/lib/python3.12/site-packages (from SQLAlchemy>=1.4.49->SQLAlchemy[asyncio]>=1.4.49->llama-index-core<0.13.0,>=0.12.23->llama-index->-r requirements.txt (line 2)) (3.1.1)\n",
      "Requirement already satisfied: mypy-extensions>=0.3.0 in ./venv/lib/python3.12/site-packages (from typing-inspect>=0.8.0->llama-index-core<0.13.0,>=0.12.23->llama-index->-r requirements.txt (line 2)) (1.0.0)\n",
      "Requirement already satisfied: marshmallow<4.0.0,>=3.18.0 in ./venv/lib/python3.12/site-packages (from dataclasses-json->llama-index-core<0.13.0,>=0.12.23->llama-index->-r requirements.txt (line 2)) (3.26.1)\n",
      "Requirement already satisfied: executing>=1.2.0 in ./venv/lib/python3.12/site-packages (from stack_data->ipython>=7.23.1->ipykernel->-r requirements.txt (line 1)) (2.1.0)\n",
      "Requirement already satisfied: asttokens>=2.1.0 in ./venv/lib/python3.12/site-packages (from stack_data->ipython>=7.23.1->ipykernel->-r requirements.txt (line 1)) (3.0.0)\n",
      "Requirement already satisfied: pure_eval in ./venv/lib/python3.12/site-packages (from stack_data->ipython>=7.23.1->ipykernel->-r requirements.txt (line 1)) (0.2.3)\n",
      "Requirement already satisfied: python-dotenv<2.0.0,>=1.0.1 in ./venv/lib/python3.12/site-packages (from llama-cloud-services>=0.6.4->llama-parse>=0.5.0->llama-index-readers-llama-parse>=0.4.0->llama-index->-r requirements.txt (line 2)) (1.0.1)\n",
      "Note: you may need to restart the kernel to use updated packages.\n"
     ]
    }
   ],
   "source": [
    "pip install -r requirements.txt"
   ]
  },
  {
   "cell_type": "code",
   "execution_count": 5,
   "metadata": {},
   "outputs": [],
   "source": [
    "import nest_asyncio\n",
    "import os\n",
    "\n",
    "nest_asyncio.apply()"
   ]
  },
  {
   "cell_type": "markdown",
   "metadata": {},
   "source": [
    "## [Optional] Setup Observability\n",
    "\n",
    "We setup an integration with LlamaTrace (integration with Arize).\n",
    "\n",
    "If you haven't already done so, make sure to create an account here: https://llamatrace.com/login. Then create an API key and put it in the `PHOENIX_API_KEY` variable below."
   ]
  },
  {
   "cell_type": "code",
   "execution_count": null,
   "metadata": {},
   "outputs": [
    {
     "name": "stdout",
     "output_type": "stream",
     "text": [
      "Collecting llama-index-callbacks-arize-phoenix\n",
      "  Using cached llama_index_callbacks_arize_phoenix-0.4.0-py3-none-any.whl.metadata (744 bytes)\n",
      "Requirement already satisfied: llama-index-core<0.13.0,>=0.12.0 in /Library/Frameworks/Python.framework/Versions/3.12/lib/python3.12/site-packages (from llama-index-callbacks-arize-phoenix) (0.12.22)\n",
      "Collecting openinference-instrumentation-llama-index>=3.0.0 (from llama-index-callbacks-arize-phoenix)\n",
      "  Using cached openinference_instrumentation_llama_index-3.3.1-py3-none-any.whl.metadata (5.7 kB)\n",
      "Requirement already satisfied: PyYAML>=6.0.1 in /Library/Frameworks/Python.framework/Versions/3.12/lib/python3.12/site-packages (from llama-index-core<0.13.0,>=0.12.0->llama-index-callbacks-arize-phoenix) (6.0.2)\n",
      "Requirement already satisfied: SQLAlchemy>=1.4.49 in /Library/Frameworks/Python.framework/Versions/3.12/lib/python3.12/site-packages (from SQLAlchemy[asyncio]>=1.4.49->llama-index-core<0.13.0,>=0.12.0->llama-index-callbacks-arize-phoenix) (2.0.38)\n",
      "Requirement already satisfied: aiohttp<4.0.0,>=3.8.6 in /Library/Frameworks/Python.framework/Versions/3.12/lib/python3.12/site-packages (from llama-index-core<0.13.0,>=0.12.0->llama-index-callbacks-arize-phoenix) (3.11.13)\n",
      "Requirement already satisfied: dataclasses-json in /Library/Frameworks/Python.framework/Versions/3.12/lib/python3.12/site-packages (from llama-index-core<0.13.0,>=0.12.0->llama-index-callbacks-arize-phoenix) (0.6.7)\n",
      "Requirement already satisfied: deprecated>=1.2.9.3 in /Library/Frameworks/Python.framework/Versions/3.12/lib/python3.12/site-packages (from llama-index-core<0.13.0,>=0.12.0->llama-index-callbacks-arize-phoenix) (1.2.18)\n",
      "Requirement already satisfied: dirtyjson<2.0.0,>=1.0.8 in /Library/Frameworks/Python.framework/Versions/3.12/lib/python3.12/site-packages (from llama-index-core<0.13.0,>=0.12.0->llama-index-callbacks-arize-phoenix) (1.0.8)\n",
      "Requirement already satisfied: filetype<2.0.0,>=1.2.0 in /Library/Frameworks/Python.framework/Versions/3.12/lib/python3.12/site-packages (from llama-index-core<0.13.0,>=0.12.0->llama-index-callbacks-arize-phoenix) (1.2.0)\n",
      "Requirement already satisfied: fsspec>=2023.5.0 in /Library/Frameworks/Python.framework/Versions/3.12/lib/python3.12/site-packages (from llama-index-core<0.13.0,>=0.12.0->llama-index-callbacks-arize-phoenix) (2025.2.0)\n",
      "Requirement already satisfied: httpx in /Library/Frameworks/Python.framework/Versions/3.12/lib/python3.12/site-packages (from llama-index-core<0.13.0,>=0.12.0->llama-index-callbacks-arize-phoenix) (0.28.1)\n",
      "Requirement already satisfied: nest-asyncio<2.0.0,>=1.5.8 in /Library/Frameworks/Python.framework/Versions/3.12/lib/python3.12/site-packages (from llama-index-core<0.13.0,>=0.12.0->llama-index-callbacks-arize-phoenix) (1.5.8)\n",
      "Requirement already satisfied: networkx>=3.0 in /Library/Frameworks/Python.framework/Versions/3.12/lib/python3.12/site-packages (from llama-index-core<0.13.0,>=0.12.0->llama-index-callbacks-arize-phoenix) (3.4.2)\n",
      "Requirement already satisfied: nltk>3.8.1 in /Library/Frameworks/Python.framework/Versions/3.12/lib/python3.12/site-packages (from llama-index-core<0.13.0,>=0.12.0->llama-index-callbacks-arize-phoenix) (3.9.1)\n",
      "Requirement already satisfied: numpy in /Library/Frameworks/Python.framework/Versions/3.12/lib/python3.12/site-packages (from llama-index-core<0.13.0,>=0.12.0->llama-index-callbacks-arize-phoenix) (1.26.2)\n",
      "Requirement already satisfied: pillow>=9.0.0 in /Library/Frameworks/Python.framework/Versions/3.12/lib/python3.12/site-packages (from llama-index-core<0.13.0,>=0.12.0->llama-index-callbacks-arize-phoenix) (11.1.0)\n",
      "Requirement already satisfied: pydantic>=2.8.0 in /Library/Frameworks/Python.framework/Versions/3.12/lib/python3.12/site-packages (from llama-index-core<0.13.0,>=0.12.0->llama-index-callbacks-arize-phoenix) (2.10.6)\n",
      "Requirement already satisfied: requests>=2.31.0 in /Library/Frameworks/Python.framework/Versions/3.12/lib/python3.12/site-packages (from llama-index-core<0.13.0,>=0.12.0->llama-index-callbacks-arize-phoenix) (2.31.0)\n",
      "Requirement already satisfied: tenacity!=8.4.0,<10.0.0,>=8.2.0 in /Library/Frameworks/Python.framework/Versions/3.12/lib/python3.12/site-packages (from llama-index-core<0.13.0,>=0.12.0->llama-index-callbacks-arize-phoenix) (8.2.3)\n",
      "Requirement already satisfied: tiktoken>=0.3.3 in /Library/Frameworks/Python.framework/Versions/3.12/lib/python3.12/site-packages (from llama-index-core<0.13.0,>=0.12.0->llama-index-callbacks-arize-phoenix) (0.9.0)\n",
      "Requirement already satisfied: tqdm<5.0.0,>=4.66.1 in /Library/Frameworks/Python.framework/Versions/3.12/lib/python3.12/site-packages (from llama-index-core<0.13.0,>=0.12.0->llama-index-callbacks-arize-phoenix) (4.67.1)\n",
      "Requirement already satisfied: typing-extensions>=4.5.0 in /Library/Frameworks/Python.framework/Versions/3.12/lib/python3.12/site-packages (from llama-index-core<0.13.0,>=0.12.0->llama-index-callbacks-arize-phoenix) (4.12.2)\n",
      "Requirement already satisfied: typing-inspect>=0.8.0 in /Library/Frameworks/Python.framework/Versions/3.12/lib/python3.12/site-packages (from llama-index-core<0.13.0,>=0.12.0->llama-index-callbacks-arize-phoenix) (0.9.0)\n",
      "Requirement already satisfied: wrapt in /Library/Frameworks/Python.framework/Versions/3.12/lib/python3.12/site-packages (from llama-index-core<0.13.0,>=0.12.0->llama-index-callbacks-arize-phoenix) (1.17.2)\n",
      "Collecting openinference-instrumentation>=0.1.17 (from openinference-instrumentation-llama-index>=3.0.0->llama-index-callbacks-arize-phoenix)\n",
      "  Using cached openinference_instrumentation-0.1.23-py3-none-any.whl.metadata (4.8 kB)\n",
      "Collecting openinference-semantic-conventions>=0.1.9 (from openinference-instrumentation-llama-index>=3.0.0->llama-index-callbacks-arize-phoenix)\n",
      "  Using cached openinference_semantic_conventions-0.1.14-py3-none-any.whl.metadata (1.2 kB)\n",
      "Collecting opentelemetry-api (from openinference-instrumentation-llama-index>=3.0.0->llama-index-callbacks-arize-phoenix)\n",
      "  Using cached opentelemetry_api-1.30.0-py3-none-any.whl.metadata (1.6 kB)\n",
      "Collecting opentelemetry-instrumentation (from openinference-instrumentation-llama-index>=3.0.0->llama-index-callbacks-arize-phoenix)\n",
      "  Using cached opentelemetry_instrumentation-0.51b0-py3-none-any.whl.metadata (6.3 kB)\n",
      "Collecting opentelemetry-semantic-conventions (from openinference-instrumentation-llama-index>=3.0.0->llama-index-callbacks-arize-phoenix)\n",
      "  Using cached opentelemetry_semantic_conventions-0.51b0-py3-none-any.whl.metadata (2.5 kB)\n",
      "Requirement already satisfied: aiohappyeyeballs>=2.3.0 in /Library/Frameworks/Python.framework/Versions/3.12/lib/python3.12/site-packages (from aiohttp<4.0.0,>=3.8.6->llama-index-core<0.13.0,>=0.12.0->llama-index-callbacks-arize-phoenix) (2.5.0)\n",
      "Requirement already satisfied: aiosignal>=1.1.2 in /Library/Frameworks/Python.framework/Versions/3.12/lib/python3.12/site-packages (from aiohttp<4.0.0,>=3.8.6->llama-index-core<0.13.0,>=0.12.0->llama-index-callbacks-arize-phoenix) (1.3.2)\n",
      "Requirement already satisfied: attrs>=17.3.0 in /Library/Frameworks/Python.framework/Versions/3.12/lib/python3.12/site-packages (from aiohttp<4.0.0,>=3.8.6->llama-index-core<0.13.0,>=0.12.0->llama-index-callbacks-arize-phoenix) (25.1.0)\n",
      "Requirement already satisfied: frozenlist>=1.1.1 in /Library/Frameworks/Python.framework/Versions/3.12/lib/python3.12/site-packages (from aiohttp<4.0.0,>=3.8.6->llama-index-core<0.13.0,>=0.12.0->llama-index-callbacks-arize-phoenix) (1.5.0)\n",
      "Requirement already satisfied: multidict<7.0,>=4.5 in /Library/Frameworks/Python.framework/Versions/3.12/lib/python3.12/site-packages (from aiohttp<4.0.0,>=3.8.6->llama-index-core<0.13.0,>=0.12.0->llama-index-callbacks-arize-phoenix) (6.1.0)\n",
      "Requirement already satisfied: propcache>=0.2.0 in /Library/Frameworks/Python.framework/Versions/3.12/lib/python3.12/site-packages (from aiohttp<4.0.0,>=3.8.6->llama-index-core<0.13.0,>=0.12.0->llama-index-callbacks-arize-phoenix) (0.3.0)\n",
      "Requirement already satisfied: yarl<2.0,>=1.17.0 in /Library/Frameworks/Python.framework/Versions/3.12/lib/python3.12/site-packages (from aiohttp<4.0.0,>=3.8.6->llama-index-core<0.13.0,>=0.12.0->llama-index-callbacks-arize-phoenix) (1.18.3)\n",
      "Requirement already satisfied: click in /Library/Frameworks/Python.framework/Versions/3.12/lib/python3.12/site-packages (from nltk>3.8.1->llama-index-core<0.13.0,>=0.12.0->llama-index-callbacks-arize-phoenix) (8.1.7)\n",
      "Requirement already satisfied: joblib in /Library/Frameworks/Python.framework/Versions/3.12/lib/python3.12/site-packages (from nltk>3.8.1->llama-index-core<0.13.0,>=0.12.0->llama-index-callbacks-arize-phoenix) (1.4.2)\n",
      "Requirement already satisfied: regex>=2021.8.3 in /Library/Frameworks/Python.framework/Versions/3.12/lib/python3.12/site-packages (from nltk>3.8.1->llama-index-core<0.13.0,>=0.12.0->llama-index-callbacks-arize-phoenix) (2024.11.6)\n",
      "Collecting opentelemetry-sdk (from openinference-instrumentation>=0.1.17->openinference-instrumentation-llama-index>=3.0.0->llama-index-callbacks-arize-phoenix)\n",
      "  Using cached opentelemetry_sdk-1.30.0-py3-none-any.whl.metadata (1.6 kB)\n",
      "Requirement already satisfied: annotated-types>=0.6.0 in /Library/Frameworks/Python.framework/Versions/3.12/lib/python3.12/site-packages (from pydantic>=2.8.0->llama-index-core<0.13.0,>=0.12.0->llama-index-callbacks-arize-phoenix) (0.7.0)\n",
      "Requirement already satisfied: pydantic-core==2.27.2 in /Library/Frameworks/Python.framework/Versions/3.12/lib/python3.12/site-packages (from pydantic>=2.8.0->llama-index-core<0.13.0,>=0.12.0->llama-index-callbacks-arize-phoenix) (2.27.2)\n",
      "Requirement already satisfied: charset-normalizer<4,>=2 in /Library/Frameworks/Python.framework/Versions/3.12/lib/python3.12/site-packages (from requests>=2.31.0->llama-index-core<0.13.0,>=0.12.0->llama-index-callbacks-arize-phoenix) (3.3.2)\n",
      "Requirement already satisfied: idna<4,>=2.5 in /Library/Frameworks/Python.framework/Versions/3.12/lib/python3.12/site-packages (from requests>=2.31.0->llama-index-core<0.13.0,>=0.12.0->llama-index-callbacks-arize-phoenix) (3.6)\n",
      "Requirement already satisfied: urllib3<3,>=1.21.1 in /Library/Frameworks/Python.framework/Versions/3.12/lib/python3.12/site-packages (from requests>=2.31.0->llama-index-core<0.13.0,>=0.12.0->llama-index-callbacks-arize-phoenix) (2.1.0)\n",
      "Requirement already satisfied: certifi>=2017.4.17 in /Library/Frameworks/Python.framework/Versions/3.12/lib/python3.12/site-packages (from requests>=2.31.0->llama-index-core<0.13.0,>=0.12.0->llama-index-callbacks-arize-phoenix) (2025.1.31)\n",
      "Requirement already satisfied: greenlet!=0.4.17 in /Library/Frameworks/Python.framework/Versions/3.12/lib/python3.12/site-packages (from SQLAlchemy>=1.4.49->SQLAlchemy[asyncio]>=1.4.49->llama-index-core<0.13.0,>=0.12.0->llama-index-callbacks-arize-phoenix) (3.1.1)\n",
      "Requirement already satisfied: mypy-extensions>=0.3.0 in /Library/Frameworks/Python.framework/Versions/3.12/lib/python3.12/site-packages (from typing-inspect>=0.8.0->llama-index-core<0.13.0,>=0.12.0->llama-index-callbacks-arize-phoenix) (1.0.0)\n",
      "Requirement already satisfied: marshmallow<4.0.0,>=3.18.0 in /Library/Frameworks/Python.framework/Versions/3.12/lib/python3.12/site-packages (from dataclasses-json->llama-index-core<0.13.0,>=0.12.0->llama-index-callbacks-arize-phoenix) (3.26.1)\n",
      "Requirement already satisfied: anyio in /Library/Frameworks/Python.framework/Versions/3.12/lib/python3.12/site-packages (from httpx->llama-index-core<0.13.0,>=0.12.0->llama-index-callbacks-arize-phoenix) (4.8.0)\n",
      "Requirement already satisfied: httpcore==1.* in /Library/Frameworks/Python.framework/Versions/3.12/lib/python3.12/site-packages (from httpx->llama-index-core<0.13.0,>=0.12.0->llama-index-callbacks-arize-phoenix) (1.0.7)\n",
      "Requirement already satisfied: h11<0.15,>=0.13 in /Library/Frameworks/Python.framework/Versions/3.12/lib/python3.12/site-packages (from httpcore==1.*->httpx->llama-index-core<0.13.0,>=0.12.0->llama-index-callbacks-arize-phoenix) (0.14.0)\n",
      "Requirement already satisfied: importlib-metadata<=8.5.0,>=6.0 in /Library/Frameworks/Python.framework/Versions/3.12/lib/python3.12/site-packages (from opentelemetry-api->openinference-instrumentation-llama-index>=3.0.0->llama-index-callbacks-arize-phoenix) (7.0.1)\n",
      "Requirement already satisfied: packaging>=18.0 in /Library/Frameworks/Python.framework/Versions/3.12/lib/python3.12/site-packages (from opentelemetry-instrumentation->openinference-instrumentation-llama-index>=3.0.0->llama-index-callbacks-arize-phoenix) (23.2)\n",
      "Requirement already satisfied: zipp>=0.5 in /Library/Frameworks/Python.framework/Versions/3.12/lib/python3.12/site-packages (from importlib-metadata<=8.5.0,>=6.0->opentelemetry-api->openinference-instrumentation-llama-index>=3.0.0->llama-index-callbacks-arize-phoenix) (3.17.0)\n",
      "Requirement already satisfied: sniffio>=1.1 in /Library/Frameworks/Python.framework/Versions/3.12/lib/python3.12/site-packages (from anyio->httpx->llama-index-core<0.13.0,>=0.12.0->llama-index-callbacks-arize-phoenix) (1.3.1)\n",
      "Using cached llama_index_callbacks_arize_phoenix-0.4.0-py3-none-any.whl (3.1 kB)\n",
      "Using cached openinference_instrumentation_llama_index-3.3.1-py3-none-any.whl (26 kB)\n",
      "Using cached openinference_instrumentation-0.1.23-py3-none-any.whl (19 kB)\n",
      "Using cached openinference_semantic_conventions-0.1.14-py3-none-any.whl (9.2 kB)\n",
      "Using cached opentelemetry_api-1.30.0-py3-none-any.whl (64 kB)\n",
      "Using cached opentelemetry_instrumentation-0.51b0-py3-none-any.whl (30 kB)\n",
      "Using cached opentelemetry_semantic_conventions-0.51b0-py3-none-any.whl (177 kB)\n",
      "Using cached opentelemetry_sdk-1.30.0-py3-none-any.whl (118 kB)\n",
      "Installing collected packages: openinference-semantic-conventions, opentelemetry-api, opentelemetry-semantic-conventions, opentelemetry-sdk, opentelemetry-instrumentation, openinference-instrumentation, openinference-instrumentation-llama-index, llama-index-callbacks-arize-phoenix\n",
      "Successfully installed llama-index-callbacks-arize-phoenix-0.4.0 openinference-instrumentation-0.1.23 openinference-instrumentation-llama-index-3.3.1 openinference-semantic-conventions-0.1.14 opentelemetry-api-1.30.0 opentelemetry-instrumentation-0.51b0 opentelemetry-sdk-1.30.0 opentelemetry-semantic-conventions-0.51b0\n"
     ]
    }
   ],
   "source": [
    "!pip install -U llama-index-callbacks-arize-phoenix"
   ]
  },
  {
   "cell_type": "code",
   "execution_count": null,
   "metadata": {},
   "outputs": [],
   "source": [
    "# setup Arize Phoenix for logging/observability\n",
    "import llama_index.core\n",
    "\n",
    "PHOENIX_API_KEY = \"<phoenix_api_key>\"\n",
    "os.environ[\"OTEL_EXPORTER_OTLP_HEADERS\"] = f\"api_key={PHOENIX_API_KEY}\"\n",
    "llama_index.core.set_global_handler(\n",
    "    \"arize_phoenix\", endpoint=\"https://llamatrace.com/v1/traces\"\n",
    ")"
   ]
  },
  {
   "cell_type": "markdown",
   "metadata": {},
   "source": [
    "## Load Documents into LlamaCloud\n",
    "\n",
    "Download the following Wikipedia pages into PDFs by either pressing Ctrl-P/Cmd-P or right-clicking and selecting \"Print\" and then \"Save as PDF\" as the destination.\n",
    "- [New York City](https://en.wikipedia.org/wiki/New_York_City)\n",
    "- [Los Angeles](https://en.wikipedia.org/wiki/Los_Angeles)\n",
    "- [Chicago](https://en.wikipedia.org/wiki/Chicago)\n",
    "- [Houston](https://en.wikipedia.org/wiki/Houston)\n",
    "- [Miami](https://en.wikipedia.org/wiki/Miami)\n",
    "- [Seattle](https://en.wikipedia.org/wiki/Seattle)\n",
    "\n",
    "After that, create a new index in LlamaCloud and upload your PDFs.\n"
   ]
  },
  {
   "cell_type": "markdown",
   "metadata": {},
   "source": [
    "## SQL Database\n",
    "\n",
    "The SQL database in this example will be created in memory and will contain three columns: the city name, the city's population, and the state the city is located in. The table creation and the information for each city is shown in the snippets below."
   ]
  },
  {
   "cell_type": "code",
   "execution_count": 6,
   "metadata": {},
   "outputs": [],
   "source": [
    "from llama_index.core import Settings\n",
    "from llama_index.llms.openai import OpenAI\n",
    "from sqlalchemy import create_engine, MetaData, Table, Column, String,Integer\n",
    "\n",
    "\n",
    "Settings.llm = OpenAI(\"gpt-3.5-turbo\")\n",
    "\n",
    "\n",
    "engine = create_engine(\"sqlite:///:memory:\", future=True)\n",
    "metadata_obj = MetaData()\n",
    "\n",
    "# create city SQL table\n",
    "table_name = \"city_stats\"\n",
    "city_stats_table = Table(\n",
    "    table_name,\n",
    "    metadata_obj,\n",
    "    Column(\"city_name\", String(16), primary_key=True),\n",
    "    Column(\"population\", Integer),\n",
    "    Column(\"state\", String(16), nullable=False),\n",
    ")\n",
    "\n",
    "metadata_obj.create_all(engine)"
   ]
  },
  {
   "cell_type": "code",
   "execution_count": 7,
   "metadata": {},
   "outputs": [
    {
     "name": "stdout",
     "output_type": "stream",
     "text": [
      "[('New York City', 8336000, 'New York'), ('Los Angeles', 3822000, 'California'), ('Chicago', 2665000, 'Illinois'), ('Houston', 2303000, 'Texas'), ('Miami', 449514, 'Florida'), ('Seattle', 749256, 'Washington')]\n"
     ]
    }
   ],
   "source": [
    "from sqlalchemy import insert\n",
    "\n",
    "rows = [\n",
    "    {\"city_name\": \"New York City\", \"population\": 8336000, \"state\": \"New York\"},\n",
    "    {\"city_name\": \"Los Angeles\", \"population\": 3822000, \"state\": \"California\"},\n",
    "    {\"city_name\": \"Chicago\", \"population\": 2665000, \"state\": \"Illinois\"},\n",
    "    {\"city_name\": \"Houston\", \"population\": 2303000, \"state\": \"Texas\"},\n",
    "    {\"city_name\": \"Miami\", \"population\": 449514, \"state\": \"Florida\"},\n",
    "    {\"city_name\": \"Seattle\", \"population\": 749256, \"state\": \"Washington\"},\n",
    "]\n",
    "for row in rows:\n",
    "    stmt = insert(city_stats_table).values(**row)\n",
    "    with engine.begin() as connection:\n",
    "        cursor = connection.execute(stmt)\n",
    "\n",
    "# Prints out records\n",
    "with engine.connect() as connection:\n",
    "    cursor = connection.exec_driver_sql(\"SELECT * FROM city_stats\")\n",
    "    print(cursor.fetchall())"
   ]
  },
  {
   "cell_type": "markdown",
   "metadata": {},
   "source": [
    "Create a query engine based on SQL database."
   ]
  },
  {
   "cell_type": "code",
   "execution_count": 8,
   "metadata": {},
   "outputs": [],
   "source": [
    "from llama_index.core.query_engine import NLSQLTableQueryEngine\n",
    "from llama_index.core import SQLDatabase\n",
    "\n",
    "sql_database = SQLDatabase(engine, include_tables=[\"city_stats\"])\n",
    "sql_query_engine = NLSQLTableQueryEngine(\n",
    "    sql_database=sql_database,\n",
    "    tables=[\"city_stats\"]\n",
    ")"
   ]
  },
  {
   "cell_type": "markdown",
   "metadata": {},
   "source": [
    "## LlamaCloud Index\n",
    "\n",
    "Create an index and a query engine around the index you've created."
   ]
  },
  {
   "cell_type": "code",
   "execution_count": null,
   "metadata": {},
   "outputs": [],
   "source": [
    "from llama_index.indices.managed.llama_cloud import LlamaCloudIndex\n",
    "\n",
    "index = LlamaCloudIndex(\n",
    "  name=\"<Your-Index-Name>\", \n",
    "  project_name=\"Default\",\n",
    "  organization_id=\"<Your-Organization-Id>\",\n",
    "  api_key=os.getenv(\"LLAMA_API_KEY\")\n",
    ")\n",
    "\n",
    "llama_cloud_query_engine = index.as_query_engine()"
   ]
  },
  {
   "cell_type": "markdown",
   "metadata": {},
   "source": [
    "Create a query engine tool around these query engines."
   ]
  },
  {
   "cell_type": "code",
   "execution_count": 10,
   "metadata": {},
   "outputs": [],
   "source": [
    "from llama_index.core.tools import QueryEngineTool\n",
    "\n",
    "sql_tool = QueryEngineTool.from_defaults(\n",
    "    query_engine=sql_query_engine,\n",
    "    description=(\n",
    "        \"Useful for translating a natural language query into a SQL query over\"\n",
    "        \" a table containing: city_stats, containing the population/state of\"\n",
    "        \" each city located in the USA.\"\n",
    "    ),\n",
    "    name=\"sql_tool\"\n",
    ")\n",
    "\n",
    "cities = [\"New York City\", \"Los Angeles\", \"Chicago\", \"Houston\", \"Miami\", \"Seattle\"]\n",
    "\n",
    "llama_cloud_tool = QueryEngineTool.from_defaults(\n",
    "    query_engine=llama_cloud_query_engine,\n",
    "    description=(\n",
    "        f\"Useful for answering semantic questions about certain cities in the US.\"\n",
    "    ),\n",
    "    name=\"llama_cloud_tool\"\n",
    ")"
   ]
  },
  {
   "cell_type": "markdown",
   "metadata": {},
   "source": [
    "## Creating an Agent Around the Query Engines\n",
    "\n",
    "We'll create a workflow that acts as an agent around the two query engines. In this workflow, we need four events:\n",
    "1. `GatherToolsEvent`: Gets all tools that need to be called (which is determined by the LLM).\n",
    "2. `ToolCallEvent`: An individual tool call. Multiple of these events will be triggered at the same time.\n",
    "3. `ToolCallEventResult`: Gets result from a tool call.\n",
    "4. `GatherEvent`: Returned from dispatcher that triggers the `ToolCallEvent`.\n",
    "\n",
    "This workflow consists of the following steps:\n",
    "1. `chat()`: Appends the message to the chat history. This chat history is fed into the LLM, along with the given tools, and the LLM determines which tools to call. This returns a `GatherToolsEvent`.\n",
    "2. `dispatch_calls()`: Triggers a `ToolCallEvent` for each tool call given in the `GatherToolsEvent` using `send_event()`. Returns a `GatherEvent` with the number of tool calls.\n",
    "3. `call_tool()`: Calls an individual tool. This step will run multiple times if there is more than one tool call. This step calls the tool and appends the result as a chat message to the chat history. It returns a `ToolCallEventResult` with the result of the tool call.\n",
    "4. `gather()`: Gathers the results from all tool calls using `collect_events()`. Waits for all tool calls to finish, then feeds chat history (following all tool calls) into the LLM. Returns the response from the LLM."
   ]
  },
  {
   "cell_type": "code",
   "execution_count": 12,
   "metadata": {},
   "outputs": [],
   "source": [
    "from typing import Dict, List, Any, Optional\n",
    "from llama_index.core.tools import BaseTool\n",
    "from llama_index.core.llms import ChatMessage\n",
    "from llama_index.core.llms.llm import ToolSelection, LLM\n",
    "from llama_index.core.workflow import (\n",
    "    Context,\n",
    "    Workflow,\n",
    "    Event,\n",
    "    StartEvent,\n",
    "    StopEvent,\n",
    "    step,\n",
    ")\n",
    "from llama_index.core.base.response.schema import Response\n",
    "from llama_index.core.tools import FunctionTool\n",
    "\n",
    "\n",
    "class InputEvent(Event):\n",
    "    \"\"\"Input event.\"\"\"\n",
    "\n",
    "class GatherToolsEvent(Event):\n",
    "    \"\"\"Gather Tools Event\"\"\"\n",
    "\n",
    "    tool_calls: Any\n",
    "\n",
    "class ToolCallEvent(Event):\n",
    "    \"\"\"Tool Call event\"\"\"\n",
    "\n",
    "    tool_call: ToolSelection\n",
    "\n",
    "class ToolCallEventResult(Event):\n",
    "    \"\"\"Tool call event result.\"\"\"\n",
    "\n",
    "    msg: ChatMessage\n",
    "\n",
    "class RouterOutputAgentWorkflow(Workflow):\n",
    "    \"\"\"Custom router output agent workflow.\"\"\"\n",
    "\n",
    "    def __init__(self,\n",
    "        tools: List[BaseTool],\n",
    "        timeout: Optional[float] = 10.0,\n",
    "        disable_validation: bool = False,\n",
    "        verbose: bool = False,\n",
    "        llm: Optional[LLM] = None,\n",
    "        chat_history: Optional[List[ChatMessage]] = None,\n",
    "    ):\n",
    "        \"\"\"Constructor.\"\"\"\n",
    "\n",
    "        super().__init__(timeout=timeout, disable_validation=disable_validation, verbose=verbose)\n",
    "\n",
    "        self.tools: List[BaseTool] = tools\n",
    "        self.tools_dict: Optional[Dict[str, BaseTool]] = {tool.metadata.name: tool for tool in self.tools}\n",
    "        self.llm: LLM = llm or OpenAI(temperature=0, model=\"gpt-3.5-turbo\")\n",
    "        self.chat_history: List[ChatMessage] = chat_history or []\n",
    "    \n",
    "\n",
    "    def reset(self) -> None:\n",
    "        \"\"\"Resets Chat History\"\"\"\n",
    "\n",
    "        self.chat_history = []\n",
    "\n",
    "    @step()\n",
    "    async def prepare_chat(self, ev: StartEvent) -> InputEvent:\n",
    "        message = ev.get(\"message\")\n",
    "        if message is None:\n",
    "            raise ValueError(\"'message' field is required.\")\n",
    "        \n",
    "        # add msg to chat history\n",
    "        chat_history = self.chat_history\n",
    "        chat_history.append(ChatMessage(role=\"user\", content=message))\n",
    "        return InputEvent()\n",
    "\n",
    "    @step()\n",
    "    async def chat(self, ev: InputEvent) -> GatherToolsEvent | StopEvent:\n",
    "        \"\"\"Appends msg to chat history, then gets tool calls.\"\"\"\n",
    "\n",
    "        # Put msg into LLM with tools included\n",
    "        chat_res = await self.llm.achat_with_tools(\n",
    "            self.tools,\n",
    "            chat_history=self.chat_history,\n",
    "            verbose=self._verbose,\n",
    "            allow_parallel_tool_calls=True\n",
    "        )\n",
    "        tool_calls = self.llm.get_tool_calls_from_response(chat_res, error_on_no_tool_call=False)\n",
    "        \n",
    "        ai_message = chat_res.message\n",
    "        self.chat_history.append(ai_message)\n",
    "        if self._verbose:\n",
    "            print(f\"Chat message: {ai_message.content}\")\n",
    "\n",
    "        # no tool calls, return chat message.\n",
    "        if not tool_calls:\n",
    "            return StopEvent(result=ai_message.content)\n",
    "\n",
    "        return GatherToolsEvent(tool_calls=tool_calls)\n",
    "\n",
    "    @step(pass_context=True)\n",
    "    async def dispatch_calls(self, ctx: Context, ev: GatherToolsEvent) -> ToolCallEvent:\n",
    "        \"\"\"Dispatches calls.\"\"\"\n",
    "\n",
    "        tool_calls = ev.tool_calls\n",
    "        await ctx.set(\"num_tool_calls\", len(tool_calls))\n",
    "\n",
    "        # trigger tool call events\n",
    "        for tool_call in tool_calls:\n",
    "            ctx.send_event(ToolCallEvent(tool_call=tool_call))\n",
    "        \n",
    "        return None\n",
    "    \n",
    "    @step()\n",
    "    async def call_tool(self, ev: ToolCallEvent) -> ToolCallEventResult:\n",
    "        \"\"\"Calls tool.\"\"\"\n",
    "\n",
    "        tool_call = ev.tool_call\n",
    "\n",
    "        # get tool ID and function call\n",
    "        id_ = tool_call.tool_id\n",
    "\n",
    "        if self._verbose:\n",
    "            print(f\"Calling function {tool_call.tool_name} with msg {tool_call.tool_kwargs}\")\n",
    "\n",
    "        # call function and put result into a chat message\n",
    "        tool = self.tools_dict[tool_call.tool_name]\n",
    "        output = await tool.acall(**tool_call.tool_kwargs)\n",
    "        msg = ChatMessage(\n",
    "            name=tool_call.tool_name,\n",
    "            content=str(output),\n",
    "            role=\"tool\",\n",
    "            additional_kwargs={\n",
    "                \"tool_call_id\": id_,\n",
    "                \"name\": tool_call.tool_name\n",
    "            }\n",
    "        )\n",
    "\n",
    "        return ToolCallEventResult(msg=msg)\n",
    "    \n",
    "    @step(pass_context=True)\n",
    "    async def gather(self, ctx: Context, ev: ToolCallEventResult) -> StopEvent | None:\n",
    "        \"\"\"Gathers tool calls.\"\"\"\n",
    "        # wait for all tool call events to finish.\n",
    "        tool_events = ctx.collect_events(ev, [ToolCallEventResult] * await ctx.get(\"num_tool_calls\"))\n",
    "        if not tool_events:\n",
    "            return None\n",
    "        \n",
    "        for tool_event in tool_events:\n",
    "            # append tool call chat messages to history\n",
    "            self.chat_history.append(tool_event.msg)\n",
    "        \n",
    "        # # after all tool calls finish, pass input event back, restart agent loop\n",
    "        return InputEvent()"
   ]
  },
  {
   "cell_type": "markdown",
   "metadata": {},
   "source": [
    "Create the workflow instance."
   ]
  },
  {
   "cell_type": "code",
   "execution_count": 13,
   "metadata": {},
   "outputs": [],
   "source": [
    "wf = RouterOutputAgentWorkflow(tools=[sql_tool, llama_cloud_tool], verbose=True, timeout=120)"
   ]
  },
  {
   "cell_type": "markdown",
   "metadata": {},
   "source": [
    "#### Visualize Workflow"
   ]
  },
  {
   "cell_type": "code",
   "execution_count": 14,
   "metadata": {},
   "outputs": [
    {
     "name": "stdout",
     "output_type": "stream",
     "text": [
      "<class 'NoneType'>\n",
      "<class '__main__.ToolCallEventResult'>\n",
      "<class '__main__.GatherToolsEvent'>\n",
      "<class 'llama_index.core.workflow.events.StopEvent'>\n",
      "<class '__main__.ToolCallEvent'>\n",
      "<class 'llama_index.core.workflow.events.StopEvent'>\n",
      "<class '__main__.InputEvent'>\n",
      "workflow_all_flows.html\n"
     ]
    }
   ],
   "source": [
    "from llama_index.utils.workflow import draw_all_possible_flows\n",
    "\n",
    "draw_all_possible_flows(RouterOutputAgentWorkflow)"
   ]
  },
  {
   "cell_type": "markdown",
   "metadata": {},
   "source": [
    "## Example Queries"
   ]
  },
  {
   "cell_type": "code",
   "execution_count": 15,
   "metadata": {},
   "outputs": [
    {
     "name": "stdout",
     "output_type": "stream",
     "text": [
      "Running step prepare_chat\n",
      "Step prepare_chat produced event InputEvent\n",
      "Running step chat\n",
      "Chat message: None\n",
      "Step chat produced event GatherToolsEvent\n",
      "Running step dispatch_calls\n",
      "Step dispatch_calls produced no event\n",
      "Running step call_tool\n",
      "Calling function sql_tool with msg {'input': 'SELECT city FROM city_stats ORDER BY population DESC LIMIT 1'}\n",
      "Step call_tool produced event ToolCallEventResult\n",
      "Running step gather\n",
      "Step gather produced event InputEvent\n",
      "Running step chat\n",
      "Chat message: New York City has the highest population among all cities in the USA.\n",
      "Step chat produced event StopEvent\n"
     ]
    },
    {
     "data": {
      "text/markdown": [
       "New York City has the highest population among all cities in the USA."
      ],
      "text/plain": [
       "<IPython.core.display.Markdown object>"
      ]
     },
     "metadata": {},
     "output_type": "display_data"
    }
   ],
   "source": [
    "from IPython.display import display, Markdown\n",
    "\n",
    "result = await wf.run(message=\"Which city has the highest population?\")\n",
    "display(Markdown(result))"
   ]
  },
  {
   "cell_type": "code",
   "execution_count": 16,
   "metadata": {},
   "outputs": [
    {
     "name": "stdout",
     "output_type": "stream",
     "text": [
      "Running step prepare_chat\n",
      "Step prepare_chat produced event InputEvent\n",
      "Running step chat\n",
      "Chat message: None\n",
      "Step chat produced event GatherToolsEvent\n",
      "Running step dispatch_calls\n",
      "Step dispatch_calls produced no event\n",
      "Running step call_tool\n",
      "Calling function llama_cloud_tool with msg {'input': 'What state is Houston located in?'}\n",
      "Step call_tool produced event ToolCallEventResult\n",
      "Running step gather\n",
      "Step gather produced event InputEvent\n",
      "Running step chat\n",
      "Chat message: Houston is located in the state of Texas.\n",
      "Step chat produced event StopEvent\n"
     ]
    },
    {
     "data": {
      "text/markdown": [
       "Houston is located in the state of Texas."
      ],
      "text/plain": [
       "<IPython.core.display.Markdown object>"
      ]
     },
     "metadata": {},
     "output_type": "display_data"
    }
   ],
   "source": [
    "result = await wf.run(message=\"What state is Houston located in?\")\n",
    "display(Markdown(result))"
   ]
  },
  {
   "cell_type": "code",
   "execution_count": 17,
   "metadata": {},
   "outputs": [
    {
     "name": "stdout",
     "output_type": "stream",
     "text": [
      "Running step prepare_chat\n",
      "Step prepare_chat produced event InputEvent\n",
      "Running step chat\n",
      "Chat message: None\n",
      "Step chat produced event GatherToolsEvent\n",
      "Running step dispatch_calls\n",
      "Step dispatch_calls produced no event\n",
      "Running step call_tool\n",
      "Calling function llama_cloud_tool with msg {'input': 'Where is the Space Needle located?'}\n",
      "Step call_tool produced event ToolCallEventResult\n",
      "Running step gather\n",
      "Step gather produced event InputEvent\n",
      "Running step chat\n",
      "Chat message: The Space Needle is located in Seattle.\n",
      "Step chat produced event StopEvent\n"
     ]
    },
    {
     "data": {
      "text/markdown": [
       "The Space Needle is located in Seattle."
      ],
      "text/plain": [
       "<IPython.core.display.Markdown object>"
      ]
     },
     "metadata": {},
     "output_type": "display_data"
    }
   ],
   "source": [
    "result = await wf.run(message=\"Where is the Space Needle located?\")\n",
    "display(Markdown(result))"
   ]
  },
  {
   "cell_type": "code",
   "execution_count": 18,
   "metadata": {},
   "outputs": [
    {
     "name": "stdout",
     "output_type": "stream",
     "text": [
      "Running step prepare_chat\n",
      "Step prepare_chat produced event InputEvent\n",
      "Running step chat\n",
      "Chat message: None\n",
      "Step chat produced event GatherToolsEvent\n",
      "Running step dispatch_calls\n",
      "Step dispatch_calls produced no event\n",
      "Running step call_tool\n",
      "Calling function llama_cloud_tool with msg {'input': 'List all of the places to visit in Miami'}\n",
      "Step call_tool produced event ToolCallEventResult\n",
      "Running step gather\n",
      "Step gather produced event InputEvent\n",
      "Running step chat\n",
      "Chat message: Here are some places to visit in Miami:\n",
      "1. Zoo Miami\n",
      "2. Jungle Island\n",
      "3. Miami Seaquarium\n",
      "4. Monkey Jungle\n",
      "5. Coral Castle\n",
      "6. Charles Deering Estate\n",
      "7. Fairchild Tropical Botanic Garden\n",
      "8. Key Biscayne\n",
      "9. South Beach\n",
      "10. Lincoln Road\n",
      "11. Bayside Marketplace\n",
      "12. Downtown Miami\n",
      "13. Brickell City Centre\n",
      "14. Art Deco District in Miami Beach\n",
      "15. Bayfront Park\n",
      "16. Museum Park\n",
      "17. Tropical Park\n",
      "18. Peacock Park\n",
      "19. Virginia Key\n",
      "20. Watson Island\n",
      "21. Adrienne Arsht Center for the Performing Arts\n",
      "22. Olympia Theater\n",
      "23. Wertheim Performing Arts Center\n",
      "24. Fair Expo Center\n",
      "25. Tower Theater\n",
      "26. Bayfront Park Amphitheater.\n",
      "Step chat produced event StopEvent\n"
     ]
    },
    {
     "data": {
      "text/markdown": [
       "Here are some places to visit in Miami:\n",
       "1. Zoo Miami\n",
       "2. Jungle Island\n",
       "3. Miami Seaquarium\n",
       "4. Monkey Jungle\n",
       "5. Coral Castle\n",
       "6. Charles Deering Estate\n",
       "7. Fairchild Tropical Botanic Garden\n",
       "8. Key Biscayne\n",
       "9. South Beach\n",
       "10. Lincoln Road\n",
       "11. Bayside Marketplace\n",
       "12. Downtown Miami\n",
       "13. Brickell City Centre\n",
       "14. Art Deco District in Miami Beach\n",
       "15. Bayfront Park\n",
       "16. Museum Park\n",
       "17. Tropical Park\n",
       "18. Peacock Park\n",
       "19. Virginia Key\n",
       "20. Watson Island\n",
       "21. Adrienne Arsht Center for the Performing Arts\n",
       "22. Olympia Theater\n",
       "23. Wertheim Performing Arts Center\n",
       "24. Fair Expo Center\n",
       "25. Tower Theater\n",
       "26. Bayfront Park Amphitheater."
      ],
      "text/plain": [
       "<IPython.core.display.Markdown object>"
      ]
     },
     "metadata": {},
     "output_type": "display_data"
    }
   ],
   "source": [
    "result = await wf.run(message=\"List all of the places to visit in Miami.\")\n",
    "display(Markdown(result))"
   ]
  },
  {
   "cell_type": "code",
   "execution_count": 19,
   "metadata": {},
   "outputs": [
    {
     "name": "stdout",
     "output_type": "stream",
     "text": [
      "Running step prepare_chat\n",
      "Step prepare_chat produced event InputEvent\n",
      "Running step chat\n",
      "Chat message: None\n",
      "Step chat produced event GatherToolsEvent\n",
      "Running step dispatch_calls\n",
      "Step dispatch_calls produced no event\n",
      "Running step call_tool\n",
      "Calling function llama_cloud_tool with msg {'input': 'How do people in Chicago get around?'}\n",
      "Step call_tool produced event ToolCallEventResult\n",
      "Running step gather\n",
      "Step gather produced event InputEvent\n",
      "Running step chat\n",
      "Chat message: People in Chicago get around using various transportation options such as the Chicago Transit Authority (CTA) buses and trains, Metra commuter rail, Pace buses, Greyhound Lines, Amtrak services, Divvy bike-sharing system, and electric scooter sharing programs. Chicago is a major transportation hub with multiple options for commuting within the city and for inter-city travel.\n",
      "Step chat produced event StopEvent\n"
     ]
    },
    {
     "data": {
      "text/markdown": [
       "People in Chicago get around using various transportation options such as the Chicago Transit Authority (CTA) buses and trains, Metra commuter rail, Pace buses, Greyhound Lines, Amtrak services, Divvy bike-sharing system, and electric scooter sharing programs. Chicago is a major transportation hub with multiple options for commuting within the city and for inter-city travel."
      ],
      "text/plain": [
       "<IPython.core.display.Markdown object>"
      ]
     },
     "metadata": {},
     "output_type": "display_data"
    }
   ],
   "source": [
    "result = await wf.run(message=\"How do people in Chicago get around?\")\n",
    "display(Markdown(result))"
   ]
  },
  {
   "cell_type": "code",
   "execution_count": 20,
   "metadata": {},
   "outputs": [
    {
     "name": "stdout",
     "output_type": "stream",
     "text": [
      "Running step prepare_chat\n",
      "Step prepare_chat produced event InputEvent\n",
      "Running step chat\n",
      "Chat message: None\n",
      "Step chat produced event GatherToolsEvent\n",
      "Running step dispatch_calls\n",
      "Step dispatch_calls produced no event\n",
      "Running step call_tool\n",
      "Calling function llama_cloud_tool with msg {'input': 'What is the historical name of Los Angeles?'}\n",
      "Step call_tool produced event ToolCallEventResult\n",
      "Running step gather\n",
      "Step gather produced event InputEvent\n",
      "Running step chat\n",
      "Chat message: The historical name of Los Angeles is \"El Pueblo de Nuestra Señora la Reina de los Ángeles,\" which translates to 'The Town of Our Lady the Queen of the Angels'.\n",
      "Step chat produced event StopEvent\n"
     ]
    },
    {
     "data": {
      "text/markdown": [
       "The historical name of Los Angeles is \"El Pueblo de Nuestra Señora la Reina de los Ángeles,\" which translates to 'The Town of Our Lady the Queen of the Angels'."
      ],
      "text/plain": [
       "<IPython.core.display.Markdown object>"
      ]
     },
     "metadata": {},
     "output_type": "display_data"
    }
   ],
   "source": [
    "result = await wf.run(message=\"What is the historical name of Los Angeles?\")\n",
    "display(Markdown(result))"
   ]
  }
 ],
 "metadata": {
  "kernelspec": {
   "display_name": "Python 3",
   "language": "python",
   "name": "python3"
  },
  "language_info": {
   "codemirror_mode": {
    "name": "ipython",
    "version": 3
   },
   "file_extension": ".py",
   "mimetype": "text/x-python",
   "name": "python",
   "nbconvert_exporter": "python",
   "pygments_lexer": "ipython3",
   "version": "3.12.0"
  }
 },
 "nbformat": 4,
 "nbformat_minor": 4
}
